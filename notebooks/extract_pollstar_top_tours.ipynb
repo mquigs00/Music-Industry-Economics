{
 "cells": [
  {
   "cell_type": "code",
   "execution_count": 1,
   "id": "8e8d6f06-e471-4b04-adeb-8fc37936d05f",
   "metadata": {},
   "outputs": [
    {
     "name": "stdout",
     "output_type": "stream",
     "text": [
      "Error retrieving object: No /Root object! - Is this really a PDF?\n",
      "Error retrieving object: No /Root object! - Is this really a PDF?\n",
      "Error retrieving object: No /Root object! - Is this really a PDF?\n"
     ]
    },
    {
     "name": "stderr",
     "output_type": "stream",
     "text": [
      "C:\\Users\\mquig\\AppData\\Local\\Temp\\ipykernel_18896\\3723152090.py:94: DeprecationWarning: 'maxsplit' is passed as positional argument\n",
      "  tour_data = re.split(r\"\\s\", line, 2);\n",
      "C:\\Users\\mquig\\AppData\\Local\\Temp\\ipykernel_18896\\3723152090.py:103: DeprecationWarning: 'maxsplit' is passed as positional argument\n",
      "  view_remaining_columns = re.split(r\"\\s\", tour_data, 5)\n",
      "C:\\Users\\mquig\\AppData\\Local\\Temp\\ipykernel_18896\\3723152090.py:106: DeprecationWarning: 'maxsplit' is passed as positional argument\n",
      "  tour_data = re.split(r\"\\s\", tour_data, 5)\n",
      "C:\\Users\\mquig\\AppData\\Local\\Temp\\ipykernel_18896\\3723152090.py:134: DeprecationWarning: 'maxsplit' is passed as positional argument\n",
      "  tour_data = re.split(r\"\\s\", tour_data, 5)\n"
     ]
    },
    {
     "name": "stdout",
     "output_type": "stream",
     "text": [
      "Error parsing tour record:  'NoneType' object has no attribute 'start'\n",
      "Error parsing tour record:  'NoneType' object has no attribute 'start'\n",
      "Error parsing tour record:  'NoneType' object has no attribute 'start'\n",
      "Error parsing tour record:  'NoneType' object has no attribute 'start'\n",
      "Saved all tours report\n",
      "Uploaded file: 2004yearendtop100tours_485.csv\n",
      "Error retrieving object: No /Root object! - Is this really a PDF?\n",
      "Error retrieving object: No /Root object! - Is this really a PDF?\n"
     ]
    },
    {
     "name": "stderr",
     "output_type": "stream",
     "text": [
      "C:\\Users\\mquig\\AppData\\Local\\Temp\\ipykernel_18896\\3723152090.py:94: DeprecationWarning: 'maxsplit' is passed as positional argument\n",
      "  tour_data = re.split(r\"\\s\", line, 2);\n",
      "C:\\Users\\mquig\\AppData\\Local\\Temp\\ipykernel_18896\\3723152090.py:103: DeprecationWarning: 'maxsplit' is passed as positional argument\n",
      "  view_remaining_columns = re.split(r\"\\s\", tour_data, 5)\n",
      "C:\\Users\\mquig\\AppData\\Local\\Temp\\ipykernel_18896\\3723152090.py:106: DeprecationWarning: 'maxsplit' is passed as positional argument\n",
      "  tour_data = re.split(r\"\\s\", tour_data, 5)\n",
      "C:\\Users\\mquig\\AppData\\Local\\Temp\\ipykernel_18896\\3723152090.py:134: DeprecationWarning: 'maxsplit' is passed as positional argument\n",
      "  tour_data = re.split(r\"\\s\", tour_data, 5)\n"
     ]
    },
    {
     "name": "stdout",
     "output_type": "stream",
     "text": [
      "Error parsing tour record:  'NoneType' object has no attribute 'start'\n",
      "Error parsing tour record:  'NoneType' object has no attribute 'start'\n",
      "Error parsing tour record:  'NoneType' object has no attribute 'start'\n",
      "Saved all tours report\n",
      "Uploaded file: 2007YearEndTop100Tours_361.csv\n",
      "Error retrieving object: No /Root object! - Is this really a PDF?\n",
      "Error retrieving object: No /Root object! - Is this really a PDF?\n"
     ]
    },
    {
     "name": "stderr",
     "output_type": "stream",
     "text": [
      "C:\\Users\\mquig\\AppData\\Local\\Temp\\ipykernel_18896\\3723152090.py:94: DeprecationWarning: 'maxsplit' is passed as positional argument\n",
      "  tour_data = re.split(r\"\\s\", line, 2);\n",
      "C:\\Users\\mquig\\AppData\\Local\\Temp\\ipykernel_18896\\3723152090.py:103: DeprecationWarning: 'maxsplit' is passed as positional argument\n",
      "  view_remaining_columns = re.split(r\"\\s\", tour_data, 5)\n",
      "C:\\Users\\mquig\\AppData\\Local\\Temp\\ipykernel_18896\\3723152090.py:106: DeprecationWarning: 'maxsplit' is passed as positional argument\n",
      "  tour_data = re.split(r\"\\s\", tour_data, 5)\n"
     ]
    },
    {
     "name": "stdout",
     "output_type": "stream",
     "text": [
      "Saved all tours report\n",
      "Uploaded file: 2009YearEndTop50WorldwideConcertTours_271.csv\n",
      "Error retrieving object: No /Root object! - Is this really a PDF?\n",
      "Error retrieving object: No /Root object! - Is this really a PDF?\n"
     ]
    },
    {
     "name": "stderr",
     "output_type": "stream",
     "text": [
      "C:\\Users\\mquig\\AppData\\Local\\Temp\\ipykernel_18896\\3723152090.py:94: DeprecationWarning: 'maxsplit' is passed as positional argument\n",
      "  tour_data = re.split(r\"\\s\", line, 2);\n",
      "C:\\Users\\mquig\\AppData\\Local\\Temp\\ipykernel_18896\\3723152090.py:103: DeprecationWarning: 'maxsplit' is passed as positional argument\n",
      "  view_remaining_columns = re.split(r\"\\s\", tour_data, 5)\n",
      "C:\\Users\\mquig\\AppData\\Local\\Temp\\ipykernel_18896\\3723152090.py:106: DeprecationWarning: 'maxsplit' is passed as positional argument\n",
      "  tour_data = re.split(r\"\\s\", tour_data, 5)\n",
      "C:\\Users\\mquig\\AppData\\Local\\Temp\\ipykernel_18896\\3723152090.py:134: DeprecationWarning: 'maxsplit' is passed as positional argument\n",
      "  tour_data = re.split(r\"\\s\", tour_data, 5)\n"
     ]
    },
    {
     "name": "stdout",
     "output_type": "stream",
     "text": [
      "Error parsing tour record:  'NoneType' object has no attribute 'start'\n",
      "Saved all tours report\n",
      "Uploaded file: 2011YearEndTop200NorthAmericanTours_173.csv\n",
      "Error retrieving object: No /Root object! - Is this really a PDF?\n"
     ]
    },
    {
     "name": "stderr",
     "output_type": "stream",
     "text": [
      "C:\\Users\\mquig\\AppData\\Local\\Temp\\ipykernel_18896\\3723152090.py:94: DeprecationWarning: 'maxsplit' is passed as positional argument\n",
      "  tour_data = re.split(r\"\\s\", line, 2);\n",
      "C:\\Users\\mquig\\AppData\\Local\\Temp\\ipykernel_18896\\3723152090.py:103: DeprecationWarning: 'maxsplit' is passed as positional argument\n",
      "  view_remaining_columns = re.split(r\"\\s\", tour_data, 5)\n",
      "C:\\Users\\mquig\\AppData\\Local\\Temp\\ipykernel_18896\\3723152090.py:106: DeprecationWarning: 'maxsplit' is passed as positional argument\n",
      "  tour_data = re.split(r\"\\s\", tour_data, 5)\n",
      "C:\\Users\\mquig\\AppData\\Local\\Temp\\ipykernel_18896\\3723152090.py:134: DeprecationWarning: 'maxsplit' is passed as positional argument\n",
      "  tour_data = re.split(r\"\\s\", tour_data, 5)\n"
     ]
    },
    {
     "name": "stdout",
     "output_type": "stream",
     "text": [
      "Error parsing tour record:  'NoneType' object has no attribute 'start'\n",
      "Saved all tours report\n",
      "Uploaded file: 2011YearEndTop100WorldwideTours_172.csv\n",
      "Error retrieving object: No /Root object! - Is this really a PDF?\n",
      "Error retrieving object: No /Root object! - Is this really a PDF?\n"
     ]
    },
    {
     "name": "stderr",
     "output_type": "stream",
     "text": [
      "C:\\Users\\mquig\\AppData\\Local\\Temp\\ipykernel_18896\\3723152090.py:94: DeprecationWarning: 'maxsplit' is passed as positional argument\n",
      "  tour_data = re.split(r\"\\s\", line, 2);\n",
      "C:\\Users\\mquig\\AppData\\Local\\Temp\\ipykernel_18896\\3723152090.py:103: DeprecationWarning: 'maxsplit' is passed as positional argument\n",
      "  view_remaining_columns = re.split(r\"\\s\", tour_data, 5)\n",
      "C:\\Users\\mquig\\AppData\\Local\\Temp\\ipykernel_18896\\3723152090.py:106: DeprecationWarning: 'maxsplit' is passed as positional argument\n",
      "  tour_data = re.split(r\"\\s\", tour_data, 5)\n",
      "C:\\Users\\mquig\\AppData\\Local\\Temp\\ipykernel_18896\\3723152090.py:134: DeprecationWarning: 'maxsplit' is passed as positional argument\n",
      "  tour_data = re.split(r\"\\s\", tour_data, 5)\n"
     ]
    },
    {
     "name": "stdout",
     "output_type": "stream",
     "text": [
      "Error parsing tour record:  'NoneType' object has no attribute 'start'\n",
      "Saved all tours report\n",
      "Uploaded file: 2015YearEndTop100WorldwideTours_chartItem_26.csv\n",
      "Error retrieving object: No /Root object! - Is this really a PDF?\n",
      "Error retrieving object: No /Root object! - Is this really a PDF?\n"
     ]
    },
    {
     "name": "stderr",
     "output_type": "stream",
     "text": [
      "C:\\Users\\mquig\\AppData\\Local\\Temp\\ipykernel_18896\\3723152090.py:94: DeprecationWarning: 'maxsplit' is passed as positional argument\n",
      "  tour_data = re.split(r\"\\s\", line, 2);\n",
      "C:\\Users\\mquig\\AppData\\Local\\Temp\\ipykernel_18896\\3723152090.py:103: DeprecationWarning: 'maxsplit' is passed as positional argument\n",
      "  view_remaining_columns = re.split(r\"\\s\", tour_data, 5)\n",
      "C:\\Users\\mquig\\AppData\\Local\\Temp\\ipykernel_18896\\3723152090.py:106: DeprecationWarning: 'maxsplit' is passed as positional argument\n",
      "  tour_data = re.split(r\"\\s\", tour_data, 5)\n",
      "C:\\Users\\mquig\\AppData\\Local\\Temp\\ipykernel_18896\\3723152090.py:134: DeprecationWarning: 'maxsplit' is passed as positional argument\n",
      "  tour_data = re.split(r\"\\s\", tour_data, 5)\n"
     ]
    },
    {
     "name": "stdout",
     "output_type": "stream",
     "text": [
      "Error parsing tour record:  'NoneType' object has no attribute 'start'\n",
      "Saved all tours report\n",
      "Uploaded file: 2017YearEndTop100WorldwideTours_621.csv\n",
      "Error retrieving object: No /Root object! - Is this really a PDF?\n",
      "Error retrieving object: No /Root object! - Is this really a PDF?\n"
     ]
    },
    {
     "name": "stderr",
     "output_type": "stream",
     "text": [
      "C:\\Users\\mquig\\AppData\\Local\\Temp\\ipykernel_18896\\3723152090.py:94: DeprecationWarning: 'maxsplit' is passed as positional argument\n",
      "  tour_data = re.split(r\"\\s\", line, 2);\n",
      "C:\\Users\\mquig\\AppData\\Local\\Temp\\ipykernel_18896\\3723152090.py:103: DeprecationWarning: 'maxsplit' is passed as positional argument\n",
      "  view_remaining_columns = re.split(r\"\\s\", tour_data, 5)\n",
      "C:\\Users\\mquig\\AppData\\Local\\Temp\\ipykernel_18896\\3723152090.py:106: DeprecationWarning: 'maxsplit' is passed as positional argument\n",
      "  tour_data = re.split(r\"\\s\", tour_data, 5)\n",
      "C:\\Users\\mquig\\AppData\\Local\\Temp\\ipykernel_18896\\3723152090.py:134: DeprecationWarning: 'maxsplit' is passed as positional argument\n",
      "  tour_data = re.split(r\"\\s\", tour_data, 5)\n"
     ]
    },
    {
     "name": "stdout",
     "output_type": "stream",
     "text": [
      "Error parsing tour record:  'NoneType' object has no attribute 'start'\n",
      "Saved all tours report\n",
      "Uploaded file: 2018YearEndTop200NorthAmericanTours_698.csv\n",
      "Error retrieving object: No /Root object! - Is this really a PDF?\n"
     ]
    },
    {
     "name": "stderr",
     "output_type": "stream",
     "text": [
      "C:\\Users\\mquig\\AppData\\Local\\Temp\\ipykernel_18896\\3723152090.py:94: DeprecationWarning: 'maxsplit' is passed as positional argument\n",
      "  tour_data = re.split(r\"\\s\", line, 2);\n",
      "C:\\Users\\mquig\\AppData\\Local\\Temp\\ipykernel_18896\\3723152090.py:103: DeprecationWarning: 'maxsplit' is passed as positional argument\n",
      "  view_remaining_columns = re.split(r\"\\s\", tour_data, 5)\n",
      "C:\\Users\\mquig\\AppData\\Local\\Temp\\ipykernel_18896\\3723152090.py:106: DeprecationWarning: 'maxsplit' is passed as positional argument\n",
      "  tour_data = re.split(r\"\\s\", tour_data, 5)\n",
      "C:\\Users\\mquig\\AppData\\Local\\Temp\\ipykernel_18896\\3723152090.py:134: DeprecationWarning: 'maxsplit' is passed as positional argument\n",
      "  tour_data = re.split(r\"\\s\", tour_data, 5)\n"
     ]
    },
    {
     "name": "stdout",
     "output_type": "stream",
     "text": [
      "Error parsing tour record:  'NoneType' object has no attribute 'start'\n",
      "Error parsing tour record:  'NoneType' object has no attribute 'start'\n",
      "Saved all tours report\n",
      "Uploaded file: 2018YearEndTop100WorldwideTours_697.csv\n",
      "Error retrieving object: No /Root object! - Is this really a PDF?\n",
      "Error retrieving object: No /Root object! - Is this really a PDF?\n"
     ]
    },
    {
     "name": "stderr",
     "output_type": "stream",
     "text": [
      "C:\\Users\\mquig\\AppData\\Local\\Temp\\ipykernel_18896\\3723152090.py:94: DeprecationWarning: 'maxsplit' is passed as positional argument\n",
      "  tour_data = re.split(r\"\\s\", line, 2);\n",
      "C:\\Users\\mquig\\AppData\\Local\\Temp\\ipykernel_18896\\3723152090.py:103: DeprecationWarning: 'maxsplit' is passed as positional argument\n",
      "  view_remaining_columns = re.split(r\"\\s\", tour_data, 5)\n",
      "C:\\Users\\mquig\\AppData\\Local\\Temp\\ipykernel_18896\\3723152090.py:106: DeprecationWarning: 'maxsplit' is passed as positional argument\n",
      "  tour_data = re.split(r\"\\s\", tour_data, 5)\n"
     ]
    },
    {
     "name": "stdout",
     "output_type": "stream",
     "text": [
      "Saved all tours report\n",
      "Uploaded file: 2019MidYearTop100NorthAmericanTours_748.csv\n",
      "PDF Plumber did not find text. Attempting to extract text with pytesseract OCR\n"
     ]
    },
    {
     "name": "stderr",
     "output_type": "stream",
     "text": [
      "C:\\Users\\mquig\\AppData\\Local\\Temp\\ipykernel_18896\\3723152090.py:94: DeprecationWarning: 'maxsplit' is passed as positional argument\n",
      "  tour_data = re.split(r\"\\s\", line, 2);\n",
      "C:\\Users\\mquig\\AppData\\Local\\Temp\\ipykernel_18896\\3723152090.py:103: DeprecationWarning: 'maxsplit' is passed as positional argument\n",
      "  view_remaining_columns = re.split(r\"\\s\", tour_data, 5)\n",
      "C:\\Users\\mquig\\AppData\\Local\\Temp\\ipykernel_18896\\3723152090.py:106: DeprecationWarning: 'maxsplit' is passed as positional argument\n",
      "  tour_data = re.split(r\"\\s\", tour_data, 5)\n"
     ]
    },
    {
     "name": "stdout",
     "output_type": "stream",
     "text": [
      "PDF Plumber did not find text. Attempting to extract text with pytesseract OCR\n",
      "PDF Plumber did not find text. Attempting to extract text with pytesseract OCR\n"
     ]
    },
    {
     "name": "stderr",
     "output_type": "stream",
     "text": [
      "C:\\Users\\mquig\\AppData\\Local\\Temp\\ipykernel_18896\\3723152090.py:134: DeprecationWarning: 'maxsplit' is passed as positional argument\n",
      "  tour_data = re.split(r\"\\s\", tour_data, 5)\n"
     ]
    },
    {
     "name": "stdout",
     "output_type": "stream",
     "text": [
      "Error parsing tour record:  'NoneType' object has no attribute 'start'\n",
      "PDF Plumber did not find text. Attempting to extract text with pytesseract OCR\n",
      "Error parsing tour record:  'NoneType' object has no attribute 'start'\n",
      "Saved all tours report\n",
      "Uploaded file: Top200NorthAmericanTours_791.csv\n",
      "Error retrieving object: No /Root object! - Is this really a PDF?\n",
      "Error retrieving object: No /Root object! - Is this really a PDF?\n"
     ]
    },
    {
     "name": "stderr",
     "output_type": "stream",
     "text": [
      "C:\\Users\\mquig\\AppData\\Local\\Temp\\ipykernel_18896\\3723152090.py:94: DeprecationWarning: 'maxsplit' is passed as positional argument\n",
      "  tour_data = re.split(r\"\\s\", line, 2);\n",
      "C:\\Users\\mquig\\AppData\\Local\\Temp\\ipykernel_18896\\3723152090.py:103: DeprecationWarning: 'maxsplit' is passed as positional argument\n",
      "  view_remaining_columns = re.split(r\"\\s\", tour_data, 5)\n",
      "C:\\Users\\mquig\\AppData\\Local\\Temp\\ipykernel_18896\\3723152090.py:106: DeprecationWarning: 'maxsplit' is passed as positional argument\n",
      "  tour_data = re.split(r\"\\s\", tour_data, 5)\n"
     ]
    },
    {
     "name": "stdout",
     "output_type": "stream",
     "text": [
      "Saved all tours report\n",
      "Uploaded file: top100worldwidetours_912.csv\n",
      "Error retrieving object: No /Root object! - Is this really a PDF?\n",
      "Error retrieving object: No /Root object! - Is this really a PDF?\n"
     ]
    },
    {
     "name": "stderr",
     "output_type": "stream",
     "text": [
      "C:\\Users\\mquig\\AppData\\Local\\Temp\\ipykernel_18896\\3723152090.py:94: DeprecationWarning: 'maxsplit' is passed as positional argument\n",
      "  tour_data = re.split(r\"\\s\", line, 2);\n",
      "C:\\Users\\mquig\\AppData\\Local\\Temp\\ipykernel_18896\\3723152090.py:103: DeprecationWarning: 'maxsplit' is passed as positional argument\n",
      "  view_remaining_columns = re.split(r\"\\s\", tour_data, 5)\n",
      "C:\\Users\\mquig\\AppData\\Local\\Temp\\ipykernel_18896\\3723152090.py:106: DeprecationWarning: 'maxsplit' is passed as positional argument\n",
      "  tour_data = re.split(r\"\\s\", tour_data, 5)\n",
      "C:\\Users\\mquig\\AppData\\Local\\Temp\\ipykernel_18896\\3723152090.py:134: DeprecationWarning: 'maxsplit' is passed as positional argument\n",
      "  tour_data = re.split(r\"\\s\", tour_data, 5)\n"
     ]
    },
    {
     "name": "stdout",
     "output_type": "stream",
     "text": [
      "Error parsing tour record:  'NoneType' object has no attribute 'start'\n",
      "Error parsing tour record:  'NoneType' object has no attribute 'start'\n",
      "Error parsing tour record:  list index out of range\n",
      "Error parsing tour record:  'NoneType' object has no attribute 'start'\n",
      "Error parsing tour record:  'NoneType' object has no attribute 'start'\n",
      "Error parsing tour record:  list index out of range\n",
      "Saved all tours report\n",
      "Uploaded file: Top200NorthAmericanTours_984.csv\n"
     ]
    }
   ],
   "source": [
    "import boto3\n",
    "import pdfplumber\n",
    "import io\n",
    "import csv\n",
    "import re\n",
    "import pandas as pd\n",
    "from pdf2image import convert_from_bytes\n",
    "import pytesseract\n",
    "\n",
    "def clean_text(text):\n",
    "    text = text.encode(\"latin1\", errors=\"ignore\").decode(\"utf-8\", errors=\"ignore\")\n",
    "\n",
    "    for symbol in noisy_symbols:\n",
    "        text = text.replace(symbol, \"\")\n",
    "\n",
    "    text = text.strip()\n",
    "    #text = re.sub(r\"\\s*\", \"\\s\", text)\n",
    "    fields = text.split()\n",
    "    text = \" \".join(fields)\n",
    "    \n",
    "    return text\n",
    "\n",
    "pytesseract.pytesseract.tesseract_cmd = r\"C:\\Users\\mquig\\AppData\\Local\\Programs\\Tesseract-OCR\\tesseract.exe\"\n",
    "\n",
    "non_musicians = []\n",
    "non_musicians_path = \"../data_cleaning/non_musicians.txt\"\n",
    "\n",
    "with open(non_musicians_path, 'r') as file:\n",
    "    for line in file:\n",
    "        non_musicians.append(line.strip())\n",
    "\n",
    "noisy_symbols = []\n",
    "noisy_symbols_path = \"../data_cleaning/noisy_symbols.txt\"\n",
    "\n",
    "with open(noisy_symbols_path, 'r') as file:\n",
    "    for line in file:\n",
    "        noisy_symbols.append(line.strip())\n",
    "\n",
    "client = boto3.client('s3');\n",
    "\n",
    "paginator = client.get_paginator('list_objects_v2')\n",
    "\n",
    "bucket_name = 'music-industry-data-lake'\n",
    "directory_prefix = \"raw/pollstar_dir/pdf/reports_pack/top-tours/\"\n",
    "\n",
    "pages = paginator.paginate(Bucket=bucket_name, Prefix=directory_prefix)\n",
    "\n",
    "def extract_text_ocr(pdf_bytes, page_num):\n",
    "    pdf_images = convert_from_bytes(\n",
    "        pdf_bytes,\n",
    "        first_page=page_num,\n",
    "        last_page=page_num\n",
    "    )\n",
    "\n",
    "    texts = []\n",
    "    \n",
    "    for img in pdf_images:\n",
    "        texts.append(pytesseract.image_to_string(img))\n",
    "\n",
    "    return \"\\n\".join(texts)\n",
    "\n",
    "for page in pages:\n",
    "    if 'Contents' in page:\n",
    "        for obj in page['Contents']:\n",
    "            try:\n",
    "                file = client.get_object(Bucket=bucket_name, Key=obj['Key'])\n",
    "                \n",
    "                pdf_bytes = file['Body'].read()\n",
    "                pdf_file = io.BytesIO(pdf_bytes)\n",
    "                \n",
    "                with pdfplumber.open(pdf_file) as pdf:\n",
    "                    #print(pdf.pages[0].extract_text())\n",
    "                    top_tours_all = []\n",
    "                    top_tours_musicians = []\n",
    "                    \n",
    "                    for page_num, page in enumerate(pdf.pages, start=1):\n",
    "                        page_text = page.extract_text()\n",
    "\n",
    "                        if not page_text:\n",
    "                            print(\"PDF Plumber did not find text. Attempting to extract text with pytesseract OCR\")\n",
    "                            page_text = extract_text_ocr(pdf_bytes, page_num)\n",
    "\n",
    "                        if not page_text:\n",
    "                            print(\"No text found with pdfplumber or OCR, skipping page\")\n",
    "                            continue\n",
    "                            \n",
    "                        lines = page_text.splitlines()\n",
    "            \n",
    "                        for line in lines:\n",
    "                            if re.search(r\"^\\d\", line) and len(line) >= 40:\n",
    "                                try:\n",
    "                                    line = clean_text(line)\n",
    "                                    #print(line)\n",
    "                                    tour_data = re.split(r\"\\s\", line, 2);\n",
    "                                    rank = tour_data[0]\n",
    "                                    gross_millions = tour_data[1]\n",
    "                                    tour_data = tour_data[2]\n",
    "            \n",
    "                                    end_of_artist_name_idx = re.search(r\"\\d*\\.\\d*\", tour_data)\n",
    "                                    artist = tour_data[0:end_of_artist_name_idx.start()-1]\n",
    "                                    tour_data = tour_data[end_of_artist_name_idx.start():]\n",
    "\n",
    "                                    view_remaining_columns = re.split(r\"\\s\", tour_data, 5)\n",
    "            \n",
    "                                    if \"/\" in view_remaining_columns[4]:\n",
    "                                        tour_data = re.split(r\"\\s\", tour_data, 5)\n",
    "                                        avg_ticket_price = tour_data[0]\n",
    "                                        avg_num_tickets = tour_data[1]\n",
    "                                        total_num_tickets = tour_data[2]\n",
    "                                        avg_gross = tour_data[3]\n",
    "                                        cities_shows = tour_data[4]\n",
    "                                        agency = tour_data[5]\n",
    "\n",
    "                                        tour_dict = {\n",
    "                                            \"Rank\": rank,\n",
    "                                            \"Gross Millions\": gross_millions,\n",
    "                                            \"Artist\": artist,\n",
    "                                            \"Average Ticket Price\": avg_ticket_price,\n",
    "                                            \"Average Tickets\": avg_num_tickets,\n",
    "                                            \"Total Tickets\": total_num_tickets,\n",
    "                                            \"Average Gross\": avg_gross,\n",
    "                                            \"Cities Shows\": cities_shows,\n",
    "                                            \"Agency\": agency\n",
    "                                        }\n",
    "\n",
    "                                        #print(tour_dict)\n",
    "            \n",
    "                                        top_tours_all.append(tour_dict)\n",
    "\n",
    "                                        if artist not in non_musicians:\n",
    "                                            top_tours_musicians.append(tour_dict)\n",
    "\n",
    "                                    else:\n",
    "                                        tour_data = re.split(r\"\\s\", tour_data, 5)\n",
    "                                        avg_ticket_price = tour_data[0]\n",
    "                                        avg_num_tickets = tour_data[1]\n",
    "                                        avg_gross = tour_data[2]\n",
    "                                        rank2 = tour_data[3]\n",
    "                                        gross_millions2 = tour_data[4]\n",
    "            \n",
    "                                        tour_data = tour_data[5]\n",
    "                                        end_of_artist_name_idx = re.search(r\"\\s\\d*\\.\\d*\", tour_data)\n",
    "                                        artist2 = tour_data[0:end_of_artist_name_idx.start()-1]\n",
    "                                        tour_data = tour_data[end_of_artist_name_idx.start():]\n",
    "                                        tour_data = re.split(r\"\\s\", tour_data)\n",
    "            \n",
    "                                        avg_ticket_price2 = tour_data[0]\n",
    "                                        avg_num_tickets2 = tour_data[1]\n",
    "                                        avg_gross2 = tour_data[2]\n",
    "            \n",
    "                                        tour_dict1 = {\n",
    "                                            \"Rank\": rank,\n",
    "                                            \"Gross Millions\": gross_millions,\n",
    "                                            \"Artist\": artist,\n",
    "                                            \"Average Ticket Price\": avg_ticket_price,\n",
    "                                            \"Average Tickets\": avg_num_tickets,\n",
    "                                            \"Total Tickets\": None,\n",
    "                                            \"Average Gross\": avg_gross,\n",
    "                                            \"Cities Shows\": None,\n",
    "                                            \"Agency\": None\n",
    "                                        }\n",
    "\n",
    "                                        tour_dict2 = {\n",
    "                                            \"Rank\": rank2,\n",
    "                                            \"Gross Millions\": gross_millions2,\n",
    "                                            \"Artist\": artist2,\n",
    "                                            \"Average Ticket Price\": avg_ticket_price2,\n",
    "                                            \"Average Tickets\": avg_num_tickets2,\n",
    "                                            \"Total Tickets\": None,\n",
    "                                            \"Average Gross\": avg_gross2,\n",
    "                                            \"Cities Shows\": None,\n",
    "                                            \"Agency\": None\n",
    "                                        }\n",
    "            \n",
    "                                        top_tours_all.append(tour_dict1)\n",
    "                                        top_tours_all.append(tour_dict2)\n",
    "\n",
    "                                        if artist not in non_musicians:\n",
    "                                            top_tours_musicians.append(tour_dict1)\n",
    "\n",
    "                                        if artist2 not in non_musicians:\n",
    "                                            top_tours_musicians.append(tour_dict2)\n",
    "                                            \n",
    "                                except Exception as e:\n",
    "                                    print(\"Error parsing tour record: \", e)\n",
    "                    \n",
    "                    df_all_tours = pd.DataFrame(top_tours_all)\n",
    "                    df_musician_tours = pd.DataFrame(top_tours_musicians)\n",
    "\n",
    "                    # get name of the file and add .csv instead of .pdf\n",
    "                    file_path = obj['Key']\n",
    "                    file_name = file_path.split('/')[-1]\n",
    "                    csv_file_name = file_name.replace('.pdf', '.csv')\n",
    "                    #print(csv_file_name)\n",
    "\n",
    "                    #df_all_tours.to_csv(\"./csv/\" + csv_file_name)\n",
    "\n",
    "                    # save all tour df as csv in all-tours folder\n",
    "                    \n",
    "                    csv_buffer = io.StringIO()\n",
    "                    df_all_tours.to_csv(csv_buffer, index=False)\n",
    "\n",
    "                    try:\n",
    "                        client.put_object(\n",
    "                            Bucket=\"music-industry-data-lake\",\n",
    "                            Key=\"processed/pollstar_dir/reports_pack/top-tours/all-tours/\" + csv_file_name,\n",
    "                            Body=csv_buffer.getvalue(),\n",
    "                        )\n",
    "                        print(\"Saved all tours report\")\n",
    "                    except Exception as e:\n",
    "                        print(f\"Error uploading file: {e}\")\n",
    "                    \n",
    "                    df_musician_tours[\"OriginalRank\"] = df_musician_tours[\"Rank\"]\n",
    "\n",
    "                    df_musician_tours = df_musician_tours.reset_index(drop=True)\n",
    "                    df_musician_tours.index = df_musician_tours.index+1\n",
    "                    df_musician_tours.index.name = \"MusicianRank\"\n",
    "                    \n",
    "                    csv_buffer = io.StringIO()\n",
    "                    df_musician_tours.to_csv(csv_buffer, index=True)\n",
    "                    \n",
    "                    try:  \n",
    "                        client.put_object(\n",
    "                            Bucket=\"music-industry-data-lake\",\n",
    "                            Key=\"processed/pollstar_dir/reports_pack/top-tours/musician-tours/\" + csv_file_name,\n",
    "                            Body=csv_buffer.getvalue()\n",
    "                        )\n",
    "\n",
    "                        print(f\"Uploaded file: {csv_file_name}\")\n",
    "                    except Exception as e:\n",
    "                        print(f\"Error uploading file {csv_file_name}: {e}\")\n",
    "                    \n",
    "            except client.exceptions.NoSuchKey:\n",
    "                print(f\"Error: Object '{object_key}' not found in bucket '{bucket_name}'\")\n",
    "                exit()\n",
    "            except Exception as e:\n",
    "                print(f\"Error retrieving object: {e}\")\n",
    "                exit()"
   ]
  },
  {
   "cell_type": "code",
   "execution_count": null,
   "id": "d90b2070-c217-4bd0-bcd7-24a41079afa1",
   "metadata": {},
   "outputs": [],
   "source": []
  },
  {
   "cell_type": "code",
   "execution_count": null,
   "id": "fe564158-526d-448c-a7ec-c7c010bbb9ea",
   "metadata": {},
   "outputs": [],
   "source": []
  }
 ],
 "metadata": {
  "kernelspec": {
   "display_name": "Python 3 (ipykernel)",
   "language": "python",
   "name": "python3"
  },
  "language_info": {
   "codemirror_mode": {
    "name": "ipython",
    "version": 3
   },
   "file_extension": ".py",
   "mimetype": "text/x-python",
   "name": "python",
   "nbconvert_exporter": "python",
   "pygments_lexer": "ipython3",
   "version": "3.13.6"
  }
 },
 "nbformat": 4,
 "nbformat_minor": 5
}
